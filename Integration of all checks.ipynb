{
 "cells": [
  {
   "cell_type": "code",
   "execution_count": 60,
   "metadata": {},
   "outputs": [],
   "source": [
    "#Import Libraries and Packages\n",
    "\n",
    "import os\n",
    "import json\n",
    "\n",
    "# keras imports\n",
    "from tensorflow.keras.utils import img_to_array\n",
    "from tensorflow.keras.utils import load_img\n",
    "from keras.utils.data_utils import get_file\n",
    "from keras.applications.vgg16 import VGG16, preprocess_input\n",
    "import keras.utils as image\n",
    "from keras.models import Model\n",
    "\n",
    "\n",
    "import h5py\n",
    "import numpy as np\n",
    "import pickle as pk"
   ]
  },
  {
   "cell_type": "code",
   "execution_count": 61,
   "metadata": {},
   "outputs": [],
   "source": [
    "import warnings\n",
    "warnings.filterwarnings('ignore')"
   ]
  },
  {
   "cell_type": "code",
   "execution_count": 62,
   "metadata": {},
   "outputs": [],
   "source": [
    "#Loading Models for various checks\n",
    "first_check = VGG16(weights='imagenet')\n",
    "second_check = pk.load(open(\"C:/Users/avish/Desktop/cdd/car_damage_check/classifier.pickle\", 'rb')) #damaged vs whole\n",
    "third_check = pk.load(open(\"C:/Users/avish/Desktop/cdd/car_damage_check/FRS/classifier.pickle\", 'rb')) # Front Rear Side\n",
    "fourth_check = pk.load(open(\"C:/Users/avish/Desktop/cdd/car_damage_check/Severity/classifier.pickle\", 'rb')) # Minor Moderate Severe"
   ]
  },
  {
   "cell_type": "code",
   "execution_count": 63,
   "metadata": {},
   "outputs": [],
   "source": [
    "# Loading  valid categories for identifying cars using VGG16\n",
    "with open('cat_counter.pk', 'rb') as f:\n",
    "    cat_counter = pk.load(f)"
   ]
  },
  {
   "cell_type": "code",
   "execution_count": 64,
   "metadata": {},
   "outputs": [
    {
     "data": {
      "text/plain": [
       "Counter({('n04252225', 'snowplow'): 7.086045803967863,\n",
       "         ('n03478589', 'half_track'): 0.8668184897396713,\n",
       "         ('n04461696', 'tow_truck'): 18.77435230812989,\n",
       "         ('n03126707', 'crane'): 0.1037683803588152,\n",
       "         ('n03417042', 'garbage_truck'): 1.415972523856908,\n",
       "         ('n02701002', 'ambulance'): 5.562831717485096,\n",
       "         ('n03977966', 'police_van'): 10.421007923898287,\n",
       "         ('n03345487', 'fire_engine'): 2.669069046038203,\n",
       "         ('n03670208', 'limousine'): 53.60916757641826,\n",
       "         ('n03594945', 'jeep'): 30.023131960071623,\n",
       "         ('n03930630', 'pickup'): 65.0029446555709,\n",
       "         ('n04467665', 'trailer_truck'): 3.2392259969492443,\n",
       "         ('n02814533', 'beach_wagon'): 67.81617850526527,\n",
       "         ('n03770679', 'minivan'): 132.04886488290504,\n",
       "         ('n02974003', 'car_wheel'): 17.176703382167034,\n",
       "         ('n03100240', 'convertible'): 91.413807330071,\n",
       "         ('n03459775', 'grille'): 18.05060733258142,\n",
       "         ('n04285008', 'sports_car'): 116.25077801197767,\n",
       "         ('n04037443', 'racer'): 39.56545662114513,\n",
       "         ('n03769881', 'minibus'): 20.396582677974948,\n",
       "         ('n02930766', 'cab'): 17.854767642566003,\n",
       "         ('n03791053', 'motor_scooter'): 2.326992454007268,\n",
       "         ('n03891332', 'parking_meter'): 1.2871054415591061,\n",
       "         ('n03782006', 'monitor'): 0.1300610490143299,\n",
       "         ('n03776460', 'mobile_home'): 1.978166563436389,\n",
       "         ('n03995372', 'power_drill'): 0.12424349784851074,\n",
       "         ('n04517823', 'vacuum'): 0.8154993318021297,\n",
       "         ('n03000684', 'chain_saw'): 0.31343066319823265,\n",
       "         ('n03485407', 'hand-held_computer'): 0.06039057672023773,\n",
       "         ('n02965783', 'car_mirror'): 1.3235955704003572,\n",
       "         ('n03445924', 'golfcart'): 2.6788824973627925,\n",
       "         ('n03649909', 'lawn_mower'): 1.1141233760863543,\n",
       "         ('n03796401', 'moving_van'): 14.75528505211696,\n",
       "         ('n03792972', 'mountain_tent'): 0.3156781829893589,\n",
       "         ('n04613696', 'yurt'): 0.48327457904815674,\n",
       "         ('n02917067', 'bullet_train'): 0.9943544864654541,\n",
       "         ('n03584829', 'iron'): 0.34617169573903084,\n",
       "         ('n04273569', 'speedboat'): 0.04745081439614296,\n",
       "         ('n04252077', 'snowmobile'): 1.6088935248553753,\n",
       "         ('n02704792', 'amphibian'): 1.428114555310458,\n",
       "         ('n03895866', 'passenger_car'): 0.1556672863662243,\n",
       "         ('n04009552', 'projector'): 0.13864291459321976,\n",
       "         ('n03666591', 'lighter'): 0.05755426734685898,\n",
       "         ('n04120489', 'running_shoe'): 0.4697868376970291,\n",
       "         ('n04254680', 'soccer_ball'): 0.17073525488376617,\n",
       "         ('n03127747', 'crash_helmet'): 0.7266965620219707,\n",
       "         ('n03623198', 'knee_pad'): 0.07474508136510849,\n",
       "         ('n03877845', 'palace'): 0.04191000014543533,\n",
       "         ('n03444034', 'go-kart'): 0.582403474021703,\n",
       "         ('n04065272', 'recreational_vehicle'): 3.7192188593326136,\n",
       "         ('n02992529', 'cellular_telephone'): 0.0739398431032896,\n",
       "         ('n03777568', 'Model_T'): 0.910085454583168,\n",
       "         ('n06874185', 'traffic_light'): 0.20880203321576118,\n",
       "         ('n03976467', 'Polaroid_camera'): 0.20491831004619598,\n",
       "         ('n04004767', 'printer'): 0.08139101415872574,\n",
       "         ('n09428293', 'seashore'): 0.03638942912220955,\n",
       "         ('n03032252', 'cinema'): 0.30575674772262573,\n",
       "         ('n04204347', 'shopping_cart'): 0.15126878209412098,\n",
       "         ('n03529860', 'home_theater'): 0.061840396374464035,\n",
       "         ('n03457902', 'greenhouse'): 0.09260950237512589,\n",
       "         ('n03899768', 'patio'): 0.062334902584552765,\n",
       "         ('n04487081', 'trolleybus'): 0.4309677444398403,\n",
       "         ('n04208210', 'shovel'): 0.00706198625266552,\n",
       "         ('n02860847', 'bobsled'): 0.5590141024440527,\n",
       "         ('n04069434', 'reflex_camera'): 0.04609931260347366,\n",
       "         ('n04286575', 'spotlight'): 0.03678302839398384,\n",
       "         ('n03710193', 'mailbox'): 0.09888413920998573,\n",
       "         ('n03496892', 'harvester'): 0.08055972307920456,\n",
       "         ('n03384352', 'forklift'): 0.14135579392313957,\n",
       "         ('n03967562', 'plow'): 0.02366362325847149,\n",
       "         ('n04465501', 'tractor'): 0.055528536438941956,\n",
       "         ('n04146614', 'school_bus'): 0.02360702119767666,\n",
       "         ('n04404412', 'television'): 0.14801651239395142,\n",
       "         ('n04456115', 'torch'): 0.2440108209848404,\n",
       "         ('n02782093', 'balloon'): 0.11419794708490372,\n",
       "         ('n03355925', 'flagpole'): 0.09716575592756271,\n",
       "         ('n03662601', 'lifeboat'): 0.1426233947277069,\n",
       "         ('n04133789', 'sandal'): 0.04246542602777481,\n",
       "         ('n02971356', 'carton'): 0.03768602013587952,\n",
       "         ('n06794110', 'street_sign'): 0.03786326199769974,\n",
       "         ('n02776631', 'bakery'): 0.059041209518909454,\n",
       "         ('n03425413', 'gas_pump'): 0.03492182865738869,\n",
       "         ('n03344393', 'fireboat'): 0.05249980464577675,\n",
       "         ('n09193705', 'alp'): 0.08289457857608795,\n",
       "         ('n03197337', 'digital_watch'): 0.16312389075756073,\n",
       "         ('n03785016', 'moped'): 0.14909577369689941,\n",
       "         ('n04204238', 'shopping_basket'): 0.03290075063705444,\n",
       "         ('n04265275', 'space_heater'): 0.03098139353096485,\n",
       "         ('n04355338', 'sundial'): 0.14003267884254456,\n",
       "         ('n02950826', 'cannon'): 0.05690950155258179,\n",
       "         ('n04356056', 'sunglasses'): 0.025669358670711517,\n",
       "         ('n04335435', 'streetcar'): 0.48274216055870056,\n",
       "         ('n02747177', 'ashcan'): 0.1335693933069706,\n",
       "         ('n04542943', 'waffle_iron'): 0.12746091187000275,\n",
       "         ('n02988304', 'CD_player'): 0.09388775378465652,\n",
       "         ('n04336792', 'stretcher'): 0.03830256313085556,\n",
       "         ('n04243546', 'slot'): 0.03655125945806503,\n",
       "         ('n01833805', 'hummingbird'): 0.5929098129272461,\n",
       "         ('n03187595', 'dial_telephone'): 0.021243944764137268,\n",
       "         ('n04258138', 'solar_dish'): 0.42376017570495605,\n",
       "         ('n04049303', 'rain_barrel'): 0.034370217472314835})"
      ]
     },
     "execution_count": 64,
     "metadata": {},
     "output_type": "execute_result"
    }
   ],
   "source": [
    "cat_counter"
   ]
  },
  {
   "cell_type": "code",
   "execution_count": 65,
   "metadata": {},
   "outputs": [
    {
     "data": {
      "text/plain": [
       "[('n03770679', 'minivan'),\n",
       " ('n04285008', 'sports_car'),\n",
       " ('n03100240', 'convertible'),\n",
       " ('n02814533', 'beach_wagon'),\n",
       " ('n03930630', 'pickup'),\n",
       " ('n03670208', 'limousine'),\n",
       " ('n04037443', 'racer'),\n",
       " ('n03594945', 'jeep'),\n",
       " ('n03769881', 'minibus'),\n",
       " ('n04461696', 'tow_truck'),\n",
       " ('n03459775', 'grille'),\n",
       " ('n02930766', 'cab'),\n",
       " ('n02974003', 'car_wheel'),\n",
       " ('n03796401', 'moving_van'),\n",
       " ('n03977966', 'police_van'),\n",
       " ('n04252225', 'snowplow'),\n",
       " ('n02701002', 'ambulance'),\n",
       " ('n04065272', 'recreational_vehicle'),\n",
       " ('n04467665', 'trailer_truck'),\n",
       " ('n03445924', 'golfcart'),\n",
       " ('n03345487', 'fire_engine'),\n",
       " ('n03791053', 'motor_scooter'),\n",
       " ('n03776460', 'mobile_home'),\n",
       " ('n04252077', 'snowmobile'),\n",
       " ('n02704792', 'amphibian'),\n",
       " ('n03417042', 'garbage_truck'),\n",
       " ('n02965783', 'car_mirror')]"
      ]
     },
     "execution_count": 65,
     "metadata": {},
     "output_type": "execute_result"
    }
   ],
   "source": [
    "# shortlisting top 27 Categories that VGG16 stores for cars (Can be altered for less or more)\n",
    "cat_list  = [k for k, v in cat_counter.most_common()[:27]]\n",
    "cat_list"
   ]
  },
  {
   "cell_type": "code",
   "execution_count": 66,
   "metadata": {},
   "outputs": [],
   "source": [
    "CLASS_INDEX = None"
   ]
  },
  {
   "cell_type": "code",
   "execution_count": 67,
   "metadata": {},
   "outputs": [],
   "source": [
    "CLASS_INDEX_PATH = \"C:/Users/avish/Desktop/Major2/imagenet_class_index.json\""
   ]
  },
  {
   "cell_type": "code",
   "execution_count": 68,
   "metadata": {},
   "outputs": [],
   "source": [
    "def get_predictions(preds,top=5):\n",
    "    global CLASS_INDEX\n",
    "    \n",
    "    #Load the jason file\n",
    "    CLASS_INDEX = json.load(open(CLASS_INDEX_PATH))\n",
    "    \n",
    "    #get the results\n",
    "    results = []\n",
    "    for pred in preds:\n",
    "        top_indices = pred.argsort()[-top:][::-1]\n",
    "        result = [tuple(CLASS_INDEX[str(i)]) + (pred[i],) for i in top_indices]\n",
    "        result.sort(key=lambda x: x[2], reverse=True)\n",
    "        results.append(result)\n",
    "    return results"
   ]
  },
  {
   "cell_type": "code",
   "execution_count": 69,
   "metadata": {},
   "outputs": [],
   "source": [
    "def prepare_img_224(img_path):\n",
    "    img = load_img(img_path, target_size=(224, 224))\n",
    "    x = img_to_array(img)\n",
    "    x = np.expand_dims(x, axis=0)\n",
    "    x = preprocess_input(x)\n",
    "    return x"
   ]
  },
  {
   "cell_type": "code",
   "execution_count": 70,
   "metadata": {},
   "outputs": [],
   "source": [
    "def car_categories_check(img_224, model):\n",
    "    print (\"Validating that this is a picture of your car...\")\n",
    "    out = model.predict(img_224)\n",
    "    top = get_predictions(out, top=5)\n",
    "    for j in top[0]:\n",
    "        if j[0:2] in cat_list:\n",
    "            print (\"Car Check Passed!!!\")\n",
    "            print (\"\\n\")\n",
    "            return True \n",
    "    return False "
   ]
  },
  {
   "cell_type": "code",
   "execution_count": 71,
   "metadata": {},
   "outputs": [],
   "source": [
    "def car_damage_check(classifier):\n",
    "    print (\"Validating that damage exists...\")\n",
    "    base_model = first_check\n",
    "    train_labels = ['Damaged', 'Not Damaged']\n",
    "    \n",
    "    model = Model(inputs=base_model.input, outputs=base_model.get_layer('fc1').output)\n",
    "    image_size = (224, 224)\n",
    "    img = image.load_img(img_path, target_size=image_size)\n",
    "    x = image.img_to_array(img)\n",
    "    x = np.expand_dims(x, axis=0)\n",
    "    x = preprocess_input(x)\n",
    "    feature = model.predict(x)\n",
    "    flat = feature.flatten()\n",
    "    flat = np.expand_dims(flat, axis=0)\n",
    "    preds = classifier.predict(flat)\n",
    "    prediction = train_labels[preds[0]]\n",
    "    \n",
    "    if train_labels[preds[0]] == 'Damaged':\n",
    "        print (\"Validation complete - proceeding to location and severity determination\")\n",
    "        print (\"\\n\")\n",
    "        return True \n",
    "    else:\n",
    "        return False"
   ]
  },
  {
   "cell_type": "code",
   "execution_count": 72,
   "metadata": {},
   "outputs": [],
   "source": [
    "def location_assessment(classifier):\n",
    "    print (\"Validating the damage area - Front, Rear or Side\")\n",
    "    base_model = first_check\n",
    "    train_labels = ['Front Damage', 'Rear Damage', 'Side Damage']\n",
    "    \n",
    "    model = Model(inputs=base_model.input, outputs=base_model.get_layer('fc1').output)\n",
    "    image_size = (224, 224)\n",
    "    img = image.load_img(img_path, target_size=image_size)\n",
    "    x = image.img_to_array(img)\n",
    "    x = np.expand_dims(x, axis=0)\n",
    "    x = preprocess_input(x)\n",
    "    feature = model.predict(x)\n",
    "    flat = feature.flatten()\n",
    "    flat = np.expand_dims(flat, axis=0)\n",
    "    preds = classifier.predict(flat)\n",
    "    prediction = train_labels[preds[0]]\n",
    "    print (\"Your Car is damaged at - \" + train_labels[preds[0]])\n",
    "    print (\"Location assesment complete\")\n",
    "    print(\"\\n\")"
   ]
  },
  {
   "cell_type": "code",
   "execution_count": 79,
   "metadata": {},
   "outputs": [],
   "source": [
    "def severity_assessment(classifier):\n",
    "    print (\"Validating the Severity...\")\n",
    "    base_model = first_check\n",
    "    train_labels = ['Minor Damage', 'Moderate Damage', 'Severe Damage']\n",
    "    \n",
    "    model = Model(inputs=base_model.input, outputs=base_model.get_layer('fc1').output)\n",
    "    image_size = (224, 224)\n",
    "    img = image.load_img(img_path, target_size=image_size)\n",
    "    x = image.img_to_array(img)\n",
    "    x = np.expand_dims(x, axis=0)\n",
    "    x = preprocess_input(x)\n",
    "    feature = model.predict(x)\n",
    "    flat = feature.flatten()\n",
    "    flat = np.expand_dims(flat, axis=0)\n",
    "    preds = classifier.predict(flat)\n",
    "    prediction = train_labels[preds[0]]\n",
    "    print (\"Your Car damage impact is - \" + train_labels[preds[0]])\n",
    "    print (\"Severity assesment complete\")\n",
    "    print (\"\\n\")\n",
    "    print (\"Thank you for using the our software!!!\")"
   ]
  },
  {
   "cell_type": "code",
   "execution_count": 80,
   "metadata": {},
   "outputs": [],
   "source": [
    "\n",
    "def engine(img):\n",
    "    while True:\n",
    "        try:\n",
    "            img_224 = prepare_img_224(img)\n",
    "            g1 = car_categories_check(img_224, first_check)\n",
    "\n",
    "            if g1 is False:\n",
    "                print (\"Are you sure this is a picture of your car? Please submit another picture of the damage.\")\n",
    "                print (\"Hint: Try zooming in/out, using a different angle or different lighting.\")\n",
    "                break\n",
    "\n",
    "            g2 = car_damage_check(second_check)\n",
    "\n",
    "            if g2 is False:\n",
    "                print (\"Are you sure that your car is damaged? Please submit another picture of the damage.\")\n",
    "                print (\"Hint: Try zooming in/out, using a different angle or different lighting.\")\n",
    "                break\n",
    "\n",
    "            x = location_assessment(third_check)\n",
    "            y = severity_assessment(fourth_check)\n",
    "            break\n",
    "        except:\n",
    "            print (\"Image not accessible. Please try again.\")\n",
    "            break"
   ]
  },
  {
   "cell_type": "code",
   "execution_count": 85,
   "metadata": {},
   "outputs": [],
   "source": [
    "img_path = \"C:/Users/avish/Desktop/Major2/data2a/validation/02-side/0034.JPEG\""
   ]
  },
  {
   "cell_type": "code",
   "execution_count": 86,
   "metadata": {},
   "outputs": [
    {
     "name": "stdout",
     "output_type": "stream",
     "text": [
      "Validating that this is a picture of your car...\n",
      "1/1 [==============================] - 0s 244ms/step\n",
      "Car Check Passed!!!\n",
      "\n",
      "\n",
      "Validating that damage exists...\n",
      "1/1 [==============================] - 1s 574ms/step\n",
      "Validation complete - proceeding to location and severity determination\n",
      "\n",
      "\n",
      "Validating the damage area - Front, Rear or Side\n",
      "1/1 [==============================] - 1s 745ms/step\n",
      "Your Car is damaged at - Side Damage\n",
      "Location assesment complete\n",
      "\n",
      "\n",
      "Validating the Severity...\n",
      "1/1 [==============================] - 1s 657ms/step\n",
      "Your Car damage impact is - Moderate Damage\n",
      "Severity assesment complete\n",
      "\n",
      "\n",
      "Thank you for using the our software!!!\n"
     ]
    }
   ],
   "source": [
    "engine(img_path)"
   ]
  },
  {
   "cell_type": "code",
   "execution_count": null,
   "metadata": {},
   "outputs": [],
   "source": []
  }
 ],
 "metadata": {
  "kernelspec": {
   "display_name": "Python 3",
   "language": "python",
   "name": "python3"
  },
  "language_info": {
   "codemirror_mode": {
    "name": "ipython",
    "version": 3
   },
   "file_extension": ".py",
   "mimetype": "text/x-python",
   "name": "python",
   "nbconvert_exporter": "python",
   "pygments_lexer": "ipython3",
   "version": "3.8.3"
  }
 },
 "nbformat": 4,
 "nbformat_minor": 5
}
